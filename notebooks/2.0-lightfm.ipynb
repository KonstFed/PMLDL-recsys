{
 "cells": [
  {
   "cell_type": "code",
   "execution_count": 3,
   "metadata": {},
   "outputs": [],
   "source": [
    "import sys\n",
    "import os\n",
    "\n",
    "\n",
    "from lightfm import LightFM\n",
    "import pandas as pd\n",
    "from scipy.sparse import csr_matrix\n",
    "from sklearn.preprocessing import OneHotEncoder"
   ]
  },
  {
   "cell_type": "code",
   "execution_count": 4,
   "metadata": {},
   "outputs": [],
   "source": [
    "import os\n",
    "\n",
    "import pandas as pd\n",
    "\n",
    "\n",
    "def _read_recs(path: str):\n",
    "    data = pd.read_csv(path, delimiter='\\t', header=None)\n",
    "    data.columns = [\"user_id\", \"item_id\", \"rating\", \"timestamp\"]\n",
    "    return data\n",
    "\n",
    "def _read_users(path: str):\n",
    "    users = pd.read_csv(path, delimiter='|', header=None)\n",
    "    users.columns = [\"user_id\", \"age\", \"gender\", \"occupation\", \"zip_code\"]\n",
    "    return users\n",
    "\n",
    "def _read_movies(path: str):\n",
    "    movies = pd.read_csv(path, delimiter='|', header=None, encoding='latin-1')\n",
    "    movies.columns = [\"movie_id\", \"title\", \"release_date\", \"video_release_date\", \"IMBD_url\"] + [f\"genre_{x}\" for x in range(19)]\n",
    "    movies = movies.drop(\"video_release_date\", axis=1)\n",
    "    movies = movies.fillna(method='ffill')\n",
    "    movies.release_date = pd.to_datetime(movies.release_date)\n",
    "    return movies\n",
    "\n",
    "def _read_genre(path: str):\n",
    "    genres = pd.read_csv(path, delimiter='|', header=None)\n",
    "    genres.columns = [\"genre\", \"id\"]\n",
    "    return genres\n",
    "\n",
    "def _read_occupation(path):\n",
    "    occupation = pd.read_csv(path, delimiter='|', header=None)\n",
    "    return occupation\n",
    "\n",
    "def load_part(dataset_path: str, part: int):\n",
    "    train_path = os.path.join(dataset_path, f\"u{part}.base\")\n",
    "    test_path = os.path.join(dataset_path, f\"u{part}.test\")\n",
    "\n",
    "    train_part = _read_recs(train_path)\n",
    "    test_part = _read_recs(test_path)\n",
    "    return train_part, test_part\n",
    "    \n",
    "def load_datasets(dataset_path: str):\n",
    "    users = _read_users(os.path.join(dataset_path, \"u.user\"))\n",
    "    items = _read_movies(os.path.join(dataset_path, \"u.item\"))\n",
    "    parts = []\n",
    "    for part in range(1, 6):\n",
    "        parts.append(load_part(dataset_path, part))\n",
    "    return users, items, parts"
   ]
  },
  {
   "cell_type": "code",
   "execution_count": 5,
   "metadata": {},
   "outputs": [
    {
     "name": "stderr",
     "output_type": "stream",
     "text": [
      "/tmp/ipykernel_9331/1324564203.py:20: FutureWarning: DataFrame.fillna with 'method' is deprecated and will raise in a future version. Use obj.ffill() or obj.bfill() instead.\n",
      "  movies = movies.fillna(method='ffill')\n"
     ]
    }
   ],
   "source": [
    "users, items, parts = load_datasets(\"../data/raw/ml-100k\")"
   ]
  },
  {
   "cell_type": "code",
   "execution_count": 6,
   "metadata": {},
   "outputs": [
    {
     "data": {
      "text/plain": [
       "((943, 23), (1682, 19))"
      ]
     },
     "execution_count": 6,
     "metadata": {},
     "output_type": "execute_result"
    }
   ],
   "source": [
    "categories_occupation = [\n",
    "    ['administrator', 'artist', 'doctor', 'educator', 'engineer',\n",
    "     'entertainment', 'executive', 'healthcare', 'homemaker', 'lawyer',\n",
    "     'librarian', 'marketing', 'none', 'other', 'programmer', 'retired',\n",
    "     'salesman', 'scientist', 'student', 'technician', 'writer']\n",
    "]\n",
    "encoder = OneHotEncoder(categories=categories_occupation, sparse=False)  # Specify sparse=False to get a dense array\n",
    "\n",
    "\n",
    "def get_user_item_sparse(interactions: pd.DataFrame, threshold=0):\n",
    "    data = interactions[interactions['rating'] > threshold]\n",
    "\n",
    "    rows = data['user_id'] - 1\n",
    "    cols = data['item_id'] - 1\n",
    "    data = data['rating'] / 5\n",
    "    \n",
    "    return csr_matrix((data, (rows, cols)), shape=(943, 1682))\n",
    "\n",
    "def get_user_features_sparse(users: pd.DataFrame):\n",
    "    normalised = users.drop('zip_code', axis=1)\n",
    "    # Normalize 'age'\n",
    "    normalised['age'] = users['age'] / 73\n",
    "    \n",
    "    # Drop the original 'occupation' column and concatenate the encoded one-hot columns\n",
    "    normalised = pd.get_dummies(normalised, columns=['occupation'])\n",
    "    normalised.gender = normalised.gender == 'M'\n",
    "    normalised.user_id = normalised.user_id - 1\n",
    "    normalised.set_index('user_id', inplace=True)\n",
    "    normalised = normalised.astype('float32')\n",
    "    return csr_matrix(normalised, shape=(943, 23))\n",
    "\n",
    "def get_item_features_sparse(items: pd.DataFrame):\n",
    "    normalised = items.drop([\"release_date\", \"title\", \"IMBD_url\"], axis=1)\n",
    "    normalised.movie_id = normalised.movie_id - 1\n",
    "    normalised.set_index('movie_id', inplace=True)\n",
    "    return csr_matrix(normalised, shape=(1682, 19))\n",
    "    \n",
    "user_features = get_user_features_sparse(users)\n",
    "item_features = get_item_features_sparse(items)\n",
    "user_features.shape, item_features.shape"
   ]
  },
  {
   "cell_type": "code",
   "execution_count": 7,
   "metadata": {},
   "outputs": [
    {
     "data": {
      "text/plain": [
       "((943, 1682), (943, 1682))"
      ]
     },
     "execution_count": 7,
     "metadata": {},
     "output_type": "execute_result"
    }
   ],
   "source": [
    "train_part1 = get_user_item_sparse(parts[0][0])\n",
    "test_part2 = get_user_item_sparse(parts[0][1], threshold=2.5)\n",
    "train_part1.shape, test_part2.shape"
   ]
  },
  {
   "cell_type": "code",
   "execution_count": 36,
   "metadata": {},
   "outputs": [
    {
     "data": {
      "text/plain": [
       "(0.1037037, 0.032220633730058415)"
      ]
     },
     "execution_count": 36,
     "metadata": {},
     "output_type": "execute_result"
    }
   ],
   "source": [
    "model = LightFM(no_components=10, loss='warp', item_alpha=1e-4, learning_rate=0.01, max_sampled=40)\n",
    "# model = LightFM(no_components=40, loss='bpr')\n",
    "\n",
    "model.fit(train_part1, user_features=user_features, item_features=item_features, epochs=40, num_threads=4)\n",
    "\n",
    "from lightfm.evaluation import precision_at_k, recall_at_k\n",
    "precision = precision_at_k(model, test_part2, user_features=user_features, item_features=item_features, train_interactions=train_part1).mean()\n",
    "recal = recall_at_k(model, test_part2, user_features=user_features, item_features=item_features, train_interactions=train_part1).mean()\n",
    "# auc_score(model, test_part2, user_features=user_features, item_features=item_features)\n",
    "precision, recal"
   ]
  },
  {
   "cell_type": "code",
   "execution_count": 12,
   "metadata": {},
   "outputs": [
    {
     "data": {
      "text/plain": [
       "(0.069934644, 0.020823012309777823)"
      ]
     },
     "execution_count": 12,
     "metadata": {},
     "output_type": "execute_result"
    }
   ],
   "source": []
  }
 ],
 "metadata": {
  "kernelspec": {
   "display_name": "pmldl-recsys",
   "language": "python",
   "name": "python3"
  },
  "language_info": {
   "codemirror_mode": {
    "name": "ipython",
    "version": 3
   },
   "file_extension": ".py",
   "mimetype": "text/x-python",
   "name": "python",
   "nbconvert_exporter": "python",
   "pygments_lexer": "ipython3",
   "version": "3.10.13"
  }
 },
 "nbformat": 4,
 "nbformat_minor": 2
}
